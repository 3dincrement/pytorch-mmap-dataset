{
 "cells": [
  {
   "cell_type": "code",
   "execution_count": 1,
   "metadata": {},
   "outputs": [],
   "source": [
    "from IPython.core.interactiveshell import InteractiveShell\n",
    "InteractiveShell.ast_node_interactivity = \"all\""
   ]
  },
  {
   "cell_type": "code",
   "execution_count": 2,
   "metadata": {},
   "outputs": [
    {
     "data": {
      "text/plain": [
       "'c:\\\\Workspace\\\\Projects\\\\pytorch-mmap-dataset\\\\notebooks'"
      ]
     },
     "execution_count": 2,
     "metadata": {},
     "output_type": "execute_result"
    },
    {
     "data": {
      "text/plain": [
       "'c:\\\\Workspace\\\\Projects\\\\pytorch-mmap-dataset'"
      ]
     },
     "execution_count": 2,
     "metadata": {},
     "output_type": "execute_result"
    }
   ],
   "source": [
    "import os\n",
    "\n",
    "os.getcwd()\n",
    "os.chdir('../')\n",
    "os.getcwd()"
   ]
  },
  {
   "cell_type": "code",
   "execution_count": 3,
   "metadata": {},
   "outputs": [],
   "source": [
    "import os\n",
    "from time import time\n",
    "\n",
    "from pytorch_mmap_dataset import MMAPDataset\n",
    "from PIL import Image\n",
    "\n",
    "import numpy as np"
   ]
  },
  {
   "cell_type": "code",
   "execution_count": 4,
   "metadata": {},
   "outputs": [],
   "source": [
    "TEST_DIR = \"../local_test_dir\"\n",
    "DATASET_ROOT_PATH = \"./local_test_dir/testSample\""
   ]
  },
  {
   "cell_type": "code",
   "execution_count": 5,
   "metadata": {},
   "outputs": [],
   "source": [
    "size_dataset = None\n",
    "def image_iter(root_path: str = DATASET_ROOT_PATH):\n",
    "    images = os.listdir(root_path)\n",
    "    global size_dataset\n",
    "    size_dataset = len(images)\n",
    "    for image_name in images:\n",
    "        image = Image.open(os.path.join(root_path, image_name)).convert(\"RGB\")\n",
    "        image = np.array(image).flatten()\n",
    "        yield image"
   ]
  },
  {
   "cell_type": "code",
   "execution_count": 6,
   "metadata": {},
   "outputs": [
    {
     "name": "stdout",
     "output_type": "stream",
     "text": [
      "Duration: 0.0019941329956054688 seconds\n"
     ]
    }
   ],
   "source": [
    "# Reusing the same iterator for both features and labels\n",
    "dataset = MMAPDataset(image_iter(), image_iter(), size=size_dataset)\n",
    "start = time()\n",
    "for idx, (input, label) in enumerate(dataset):\n",
    "    pass\n",
    "duration = time() - start\n",
    "print(f\"Duration: {duration} seconds\")"
   ]
  },
  {
   "cell_type": "code",
   "execution_count": null,
   "metadata": {},
   "outputs": [],
   "source": []
  }
 ],
 "metadata": {
  "kernelspec": {
   "display_name": "Python 3.7.7 ('torch')",
   "language": "python",
   "name": "python3"
  },
  "language_info": {
   "codemirror_mode": {
    "name": "ipython",
    "version": 3
   },
   "file_extension": ".py",
   "mimetype": "text/x-python",
   "name": "python",
   "nbconvert_exporter": "python",
   "pygments_lexer": "ipython3",
   "version": "3.7.7"
  },
  "orig_nbformat": 4,
  "vscode": {
   "interpreter": {
    "hash": "19d32e33994ab0c7a7657efd89701a9b1c27e32399db90c41e6b90c4bc1223bb"
   }
  }
 },
 "nbformat": 4,
 "nbformat_minor": 2
}
